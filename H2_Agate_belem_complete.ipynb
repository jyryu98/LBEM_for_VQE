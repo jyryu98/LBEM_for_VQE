{
 "cells": [
  {
   "cell_type": "code",
   "execution_count": 4,
   "metadata": {},
   "outputs": [],
   "source": [
    "from util import *\n",
    "from expval_calc_q_optim import *\n",
    "from generate_training_set import *\n",
    "\n",
    "from qiskit.utils import QuantumInstance \n",
    "from qiskit.test.mock import FakeVigo\n",
    "from qiskit import Aer\n",
    "\n",
    "import matplotlib.pyplot as plt"
   ]
  },
  {
   "cell_type": "code",
   "execution_count": 5,
   "metadata": {},
   "outputs": [
    {
     "name": "stderr",
     "output_type": "stream",
     "text": [
      "ibmqfactory.load_account:WARNING:2022-02-25 19:53:56,548: Credentials are already in use. The existing account in the session will be replaced.\n"
     ]
    },
    {
     "name": "stdout",
     "output_type": "stream",
     "text": [
      "[<AccountProvider for IBMQ(hub='ibm-q', group='open', project='main')>]\n"
     ]
    }
   ],
   "source": [
    "# Create appropriate instances\n",
    "IBMQ.save_account('df2189d5239f6b7504f8c29f87daf1b145ab3029b540d836c4c53351a5b551ef2f9af4b4b7fee94ed8ef8788935fa6c60d9f0bc417b8957abccd7850e24196b4', overwrite=True)\n",
    "IBMQ.load_account()\n",
    "print(IBMQ.providers())\n",
    "hardware_provider = IBMQ.get_provider(group='open')\n",
    "hardware_backend = hardware_provider.get_backend('ibmq_belem')\n",
    "em_instance = QuantumInstance(backend = hardware_backend, shots = 4096)\n",
    "sv_backend = Aer.get_backend('aer_simulator_statevector')\n",
    "ef_instance = QuantumInstance(backend = sv_backend)"
   ]
  },
  {
   "cell_type": "code",
   "execution_count": 6,
   "metadata": {},
   "outputs": [
    {
     "name": "stdout",
     "output_type": "stream",
     "text": [
      "Ansatz & qubit hamiltonian created\n",
      "Training circuits generated\n",
      "All expectation values calculated\n",
      "q optimized\n"
     ]
    }
   ],
   "source": [
    "# LBEM\n",
    "seed = 100\n",
    "\n",
    "group_pauli_op, [ansatz,num_par_gates] = main('H2', 0.774, 2, 1, 'num_particle_preserving')\n",
    "group_pauli_op = group_pauli_op['grouped_paulis']\n",
    "print('Ansatz & qubit hamiltonian created')\n",
    "\n",
    "trunc_T, trunc_P = truncate_training_set(num_par_gates, 0, 0, s = seed, exhaustive= True)\n",
    "circuit_list = get_circuits_dict(ansatz, trunc_T, trunc_P, num_par_gates)\n",
    "print('Training circuits generated')\n",
    "\n",
    "com_ef, com_em = expval_calc(group_pauli_op, circuit_list, em_instance, ef_instance)\n",
    "print('All expectation values calculated')\n",
    "\n",
    "q = q_optimize(group_pauli_op, circuit_list, com_em, com_ef)\n",
    "print('q optimized')"
   ]
  },
  {
   "cell_type": "code",
   "execution_count": 7,
   "metadata": {},
   "outputs": [
    {
     "name": "stdout",
     "output_type": "stream",
     "text": [
      "Angle: 0.0 | Error free value: (0.7601782935585354+0j) | Error mitigated value: (0.740224541453387+0j) | Noisy value: (0.647985499572191+0j)\n",
      "Angle: 0.3141592653589793 | Error free value: (0.509456832858257+0j) | Error mitigated value: (0.4765948214668185+0j) | Noisy value: (0.444266520044885+0j)\n",
      "Angle: 0.6283185307179586 | Error free value: (0.06834387491332133+0j) | Error mitigated value: (0.03936401701008682+0j) | Noisy value: (0.07399208847217484+0j)\n",
      "Angle: 0.9424777960769379 | Error free value: (-0.39467042321931056+0j) | Error mitigated value: (-0.4320746173652528+0j) | Noisy value: (-0.3170891411471013+0j)\n",
      "Angle: 1.2566370614359172 | Error free value: (-0.7027303369301501+0j) | Error mitigated value: (-0.7128504291893412+0j) | Noisy value: (-0.5753035453829409+0j)\n",
      "Angle: 1.5707963267948966 | Error free value: (-0.7381674497530155+0j) | Error mitigated value: (-0.7691115152852124+0j) | Noisy value: (-0.6304841153122429+0j)\n",
      "Angle: 1.8849555921538759 | Error free value: (-0.4874459890527381+0j) | Error mitigated value: (-0.5080309265865596+0j) | Noisy value: (-0.42941865531249657+0j)\n",
      "Angle: 2.199114857512855 | Error free value: (-0.046333031107801986+0j) | Error mitigated value: (-0.07426173572164538+0j) | Noisy value: (-0.048362381785116676+0j)\n",
      "Angle: 2.5132741228718345 | Error free value: (0.4166812670248301+0j) | Error mitigated value: (0.3990672490627087+0j) | Noisy value: (0.35691091128713814+0j)\n",
      "Angle: 2.827433388230814 | Error free value: (0.7247411807356693+0j) | Error mitigated value: (0.6934512447845758+0j) | Noisy value: (0.5873238195049663+0j)\n",
      "Angle: 3.141592653589793 | Error free value: (0.7601782935585352+0j) | Error mitigated value: (0.7294115194502226+0j) | Noisy value: (0.6280833334073673+0j)\n",
      "Angle: 3.4557519189487724 | Error free value: (0.5094568328582577+0j) | Error mitigated value: (0.4840772250169661+0j) | Noisy value: (0.4523075485609426+0j)\n",
      "Angle: 3.7699111843077517 | Error free value: (0.06834387491332153+0j) | Error mitigated value: (0.04989990991908179+0j) | Noisy value: (0.06801489341709863+0j)\n",
      "Angle: 4.084070449666731 | Error free value: (-0.39467042321931023+0j) | Error mitigated value: (-0.4103223161044731+0j) | Noisy value: (-0.3200032717388121+0j)\n",
      "Angle: 4.39822971502571 | Error free value: (-0.7027303369301494+0j) | Error mitigated value: (-0.7242752856875574+0j) | Noisy value: (-0.5653474005377415+0j)\n",
      "Angle: 4.71238898038469 | Error free value: (-0.7381674497530155+0j) | Error mitigated value: (-0.7587597131141754+0j) | Noisy value: (-0.6187504183684079+0j)\n",
      "Angle: 5.026548245743669 | Error free value: (-0.487445989052738+0j) | Error mitigated value: (-0.5107442953190844+0j) | Noisy value: (-0.4180686614478192+0j)\n",
      "Angle: 5.340707511102648 | Error free value: (-0.046333031107802264+0j) | Error mitigated value: (-0.07534917803542068+0j) | Noisy value: (-0.04435870362137154+0j)\n",
      "Angle: 5.654866776461628 | Error free value: (0.4166812670248301+0j) | Error mitigated value: (0.3864280050646344+0j) | Noisy value: (0.3448429866640472+0j)\n",
      "Angle: 5.969026041820607 | Error free value: (0.7247411807356693+0j) | Error mitigated value: (0.6902659314314086+0j) | Noisy value: (0.6251714463067933+0j)\n"
     ]
    }
   ],
   "source": [
    "# Test using some random angles\n",
    "angles = (2*np.pi/20) * np.array(list(range(20)))\n",
    "efs = []\n",
    "ems = []\n",
    "ns = []\n",
    "\n",
    "for angle in angles:\n",
    "    ef_expval, em_expval, n_expval = test(ansatz, [angle], group_pauli_op, q, ef_instance, em_instance)\n",
    "    print('Angle: {} | Error free value: {} | Error mitigated value: {} | Noisy value: {}'.format(angle, ef_expval, em_expval, n_expval))\n",
    "    \n",
    "    efs.append(ef_expval)\n",
    "    ems.append(em_expval)\n",
    "    ns.append(n_expval)"
   ]
  },
  {
   "cell_type": "code",
   "execution_count": 8,
   "metadata": {},
   "outputs": [
    {
     "data": {
      "text/plain": [
       "<matplotlib.legend.Legend at 0x7f3f0bd6d4c0>"
      ]
     },
     "execution_count": 8,
     "metadata": {},
     "output_type": "execute_result"
    },
    {
     "data": {
      "image/png": "[encoded data removed]",
      "text/plain": [
       "<Figure size 432x288 with 1 Axes>"
      ]
     },
     "metadata": {
      "needs_background": "light"
     },
     "output_type": "display_data"
    }
   ],
   "source": [
    "plt.scatter(angles, efs, c = 'tab:blue', label = 'Error Free')\n",
    "plt.scatter(angles, ems, c = 'tab:pink', label = 'Error Mitigated')\n",
    "plt.scatter(angles, ns, c = 'tab:green', label = 'Noisy')\n",
    "plt.legend()"
   ]
  },
  {
   "cell_type": "code",
   "execution_count": 9,
   "metadata": {},
   "outputs": [
    {
     "data": {
      "text/plain": [
       "<matplotlib.legend.Legend at 0x7f3f08d06f40>"
      ]
     },
     "execution_count": 9,
     "metadata": {},
     "output_type": "execute_result"
    },
    {
     "data": {
      "image/png": "[encoded data removed]",
      "text/plain": [
       "<Figure size 432x288 with 1 Axes>"
      ]
     },
     "metadata": {
      "needs_background": "light"
     },
     "output_type": "display_data"
    }
   ],
   "source": [
    "plt.scatter(angles, np.abs(np.array(ems) - np.array(efs)), c = 'tab:blue', label = 'EM - EF')\n",
    "plt.scatter(angles, np.abs(np.array(ns) - np.array(efs)), c = 'tab:pink', label = 'N - EF')\n",
    "plt.legend()"
   ]
  },
  {
   "cell_type": "code",
   "execution_count": 10,
   "metadata": {},
   "outputs": [
    {
     "data": {
      "text/html": [
       "<pre style=\"word-wrap: normal;white-space: pre;background: #fff0;line-height: 1.1;font-family: &quot;Courier New&quot;,Courier,monospace\">     ┌───┐┌───┐                                                          »\n",
       "q_0: ┤ X ├┤ X ├─────────────────────────────────■────────────────────────»\n",
       "     └───┘└─┬─┘┌────────────────────┐┌───────┐┌─┴─┐┌────────────────────┐»\n",
       "q_1: ───────■──┤ Ry(theta[0] + π/2) ├┤ Rz(π) ├┤ X ├┤ Ry(theta[0] + π/2) ├»\n",
       "               └────────────────────┘└───────┘└───┘└────────────────────┘»\n",
       "«              ┌───┐\n",
       "«q_0: ─────────┤ X ├\n",
       "«     ┌───────┐└─┬─┘\n",
       "«q_1: ┤ Rz(π) ├──■──\n",
       "«     └───────┘     </pre>"
      ],
      "text/plain": [
       "     ┌───┐┌───┐                                                          »\n",
       "q_0: ┤ X ├┤ X ├─────────────────────────────────■────────────────────────»\n",
       "     └───┘└─┬─┘┌────────────────────┐┌───────┐┌─┴─┐┌────────────────────┐»\n",
       "q_1: ───────■──┤ Ry(theta[0] + π/2) ├┤ Rz(π) ├┤ X ├┤ Ry(theta[0] + π/2) ├»\n",
       "               └────────────────────┘└───────┘└───┘└────────────────────┘»\n",
       "«              ┌───┐\n",
       "«q_0: ─────────┤ X ├\n",
       "«     ┌───────┐└─┬─┘\n",
       "«q_1: ┤ Rz(π) ├──■──\n",
       "«     └───────┘     "
      ]
     },
     "execution_count": 10,
     "metadata": {},
     "output_type": "execute_result"
    }
   ],
   "source": [
    "ansatz.draw()"
   ]
  },
  {
   "cell_type": "code",
   "execution_count": 11,
   "metadata": {},
   "outputs": [
    {
     "data": {
      "text/plain": [
       "(array([ 0.34333083,  0.04064677, -0.00282666,  0.01434463, -0.12032745,\n",
       "         0.15315217,  0.10045897,  0.13403858, -0.16250407,  0.16205248,\n",
       "         0.150938  ,  0.14218814,  0.26848026, -0.00701784, -0.02419921,\n",
       "        -0.02382803, -0.02707583]),\n",
       " ['II',\n",
       "  'IX',\n",
       "  'IY',\n",
       "  'IZ',\n",
       "  'XI',\n",
       "  'XX',\n",
       "  'XY',\n",
       "  'XZ',\n",
       "  'YI',\n",
       "  'YX',\n",
       "  'YY',\n",
       "  'YZ',\n",
       "  'ZI',\n",
       "  'ZX',\n",
       "  'ZY',\n",
       "  'ZZ',\n",
       "  'q0'])"
      ]
     },
     "execution_count": 11,
     "metadata": {},
     "output_type": "execute_result"
    }
   ],
   "source": [
    "q"
   ]
  },
  {
   "cell_type": "code",
   "execution_count": null,
   "metadata": {},
   "outputs": [],
   "source": []
  }
 ],
 "metadata": {
  "interpreter": {
   "hash": "766e0d0516c4f25c2b1f01a59606ef04191a3cb324d6d185230911e47ef2666f"
  },
  "kernelspec": {
   "display_name": "Python 3 (ipykernel)",
   "language": "python",
   "name": "python3"
  },
  "language_info": {
   "codemirror_mode": {
    "name": "ipython",
    "version": 3
   },
   "file_extension": ".py",
   "mimetype": "text/x-python",
   "name": "python",
   "nbconvert_exporter": "python",
   "pygments_lexer": "ipython3",
   "version": "3.9.7"
  }
 },
 "nbformat": 4,
 "nbformat_minor": 2
}
